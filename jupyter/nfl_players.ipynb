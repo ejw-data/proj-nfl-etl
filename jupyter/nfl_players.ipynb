{
 "cells": [
  {
   "cell_type": "code",
   "execution_count": 1,
   "metadata": {},
   "outputs": [],
   "source": [
    "import pandas as pd\n",
    "import requests\n"
   ]
  },
  {
   "cell_type": "code",
   "execution_count": 2,
   "metadata": {},
   "outputs": [],
   "source": [
    "#path='Resources/players_2013-12-12.csv'\n",
    "\n",
    "url=\"http://nflsavant.com/dump/players_2013-12-12.csv\""
   ]
  },
  {
   "cell_type": "code",
   "execution_count": 3,
   "metadata": {},
   "outputs": [],
   "source": [
    "df = pd.read_csv(url)"
   ]
  },
  {
   "cell_type": "code",
   "execution_count": 4,
   "metadata": {},
   "outputs": [],
   "source": [
    "df2 = df[['name', 'first_name', 'last_name', 'college', 'position', 'height', 'weight', 'draft_team', 'draft_round', 'year_start', 'year_end']]"
   ]
  },
  {
   "cell_type": "code",
   "execution_count": 5,
   "metadata": {},
   "outputs": [
    {
     "name": "stdout",
     "output_type": "stream",
     "text": [
      "Stored 'df2' (DataFrame)\n"
     ]
    }
   ],
   "source": [
    "%store df2"
   ]
  },
  {
   "cell_type": "code",
   "execution_count": 6,
   "metadata": {},
   "outputs": [
    {
     "data": {
      "text/html": [
       "<div>\n",
       "<style scoped>\n",
       "    .dataframe tbody tr th:only-of-type {\n",
       "        vertical-align: middle;\n",
       "    }\n",
       "\n",
       "    .dataframe tbody tr th {\n",
       "        vertical-align: top;\n",
       "    }\n",
       "\n",
       "    .dataframe thead th {\n",
       "        text-align: right;\n",
       "    }\n",
       "</style>\n",
       "<table border=\"1\" class=\"dataframe\">\n",
       "  <thead>\n",
       "    <tr style=\"text-align: right;\">\n",
       "      <th></th>\n",
       "      <th>name</th>\n",
       "      <th>first_name</th>\n",
       "      <th>last_name</th>\n",
       "      <th>college</th>\n",
       "      <th>position</th>\n",
       "      <th>height</th>\n",
       "      <th>weight</th>\n",
       "      <th>draft_team</th>\n",
       "      <th>draft_round</th>\n",
       "      <th>year_start</th>\n",
       "      <th>year_end</th>\n",
       "    </tr>\n",
       "  </thead>\n",
       "  <tbody>\n",
       "    <tr>\n",
       "      <th>16552</th>\n",
       "      <td>Adrian Peterson</td>\n",
       "      <td>Adrian</td>\n",
       "      <td>Peterson</td>\n",
       "      <td>Georgia Southern</td>\n",
       "      <td>RB</td>\n",
       "      <td>10-May</td>\n",
       "      <td>210.0</td>\n",
       "      <td>Chicago Bears</td>\n",
       "      <td>6th</td>\n",
       "      <td>1942</td>\n",
       "      <td>1945</td>\n",
       "    </tr>\n",
       "    <tr>\n",
       "      <th>16553</th>\n",
       "      <td>Adrian Peterson</td>\n",
       "      <td>Adrian</td>\n",
       "      <td>Peterson</td>\n",
       "      <td>Oklahoma</td>\n",
       "      <td>RB</td>\n",
       "      <td>2-Jun</td>\n",
       "      <td>217.0</td>\n",
       "      <td>Minnesota Vikings</td>\n",
       "      <td>1st</td>\n",
       "      <td>1942</td>\n",
       "      <td>1945</td>\n",
       "    </tr>\n",
       "  </tbody>\n",
       "</table>\n",
       "</div>"
      ],
      "text/plain": [
       "                  name first_name last_name           college position  \\\n",
       "16552  Adrian Peterson     Adrian  Peterson  Georgia Southern       RB   \n",
       "16553  Adrian Peterson     Adrian  Peterson          Oklahoma       RB   \n",
       "\n",
       "       height  weight         draft_team draft_round  year_start  year_end  \n",
       "16552  10-May   210.0      Chicago Bears         6th        1942      1945  \n",
       "16553   2-Jun   217.0  Minnesota Vikings         1st        1942      1945  "
      ]
     },
     "execution_count": 6,
     "metadata": {},
     "output_type": "execute_result"
    }
   ],
   "source": [
    "df2.loc[df2['name'] == 'Adrian Peterson']"
   ]
  },
  {
   "cell_type": "code",
   "execution_count": 7,
   "metadata": {},
   "outputs": [
    {
     "data": {
      "text/plain": [
       "Ed Smith            5\n",
       "Chris Johnson       4\n",
       "Jim Miller          4\n",
       "Greg Jones          4\n",
       "George Wilson       4\n",
       "Bill Johnson        4\n",
       "Mike Johnson        4\n",
       "Mike Williams       4\n",
       "Chris Davis         4\n",
       "Joe Williams        4\n",
       "Kevin Williams      4\n",
       "Jeff Smith          4\n",
       "Steve Smith         4\n",
       "Willie Jones        4\n",
       "Larry Brown         4\n",
       "John Henderson      3\n",
       "Charlie Johnson     3\n",
       "Joe Johnson         3\n",
       "Eric Brown          3\n",
       "Jim Leonard         3\n",
       "Jeff Allen          3\n",
       "John Thomas         3\n",
       "Jim Kelly           3\n",
       "Eric Smith          3\n",
       "Jim Smith           3\n",
       "Kyle Williams       3\n",
       "Eric Johnson        3\n",
       "Anthony Davis       3\n",
       "Ricky Williams      3\n",
       "Clay Matthews       3\n",
       "                   ..\n",
       "Dwan Edwards        1\n",
       "Lindy Mayhew        1\n",
       "Aaron Manning       1\n",
       "Jack Mattiford      1\n",
       "Don Stallings       1\n",
       "Marcus Dupree       1\n",
       "Larry Williams      1\n",
       "Fletcher Smith      1\n",
       "Maurice Henry       1\n",
       "Terrell Fletcher    1\n",
       "David Hill          1\n",
       "Hank Baskett        1\n",
       "Frank Kristufek     1\n",
       "Bill Kerr           1\n",
       "Gordon Paschka      1\n",
       "Dave Ball           1\n",
       "Scott Peters        1\n",
       "Jack Cloud          1\n",
       "Bob Dwyer           1\n",
       "Bill McClard        1\n",
       "Jeris Pendleton     1\n",
       "Chase Boldt         1\n",
       "Marcedes Lewis      1\n",
       "Cal Thomas          1\n",
       "Larry Mialik        1\n",
       "Troy Archer         1\n",
       "Malcolm Moore       1\n",
       "Aaron Williams      1\n",
       "Bob Spitulski       1\n",
       "Emile Palmer        1\n",
       "Name: name, Length: 23001, dtype: int64"
      ]
     },
     "execution_count": 7,
     "metadata": {},
     "output_type": "execute_result"
    }
   ],
   "source": [
    "df2['name'].value_counts()"
   ]
  },
  {
   "cell_type": "code",
   "execution_count": 8,
   "metadata": {},
   "outputs": [
    {
     "data": {
      "text/plain": [
       "23001"
      ]
     },
     "execution_count": 8,
     "metadata": {},
     "output_type": "execute_result"
    }
   ],
   "source": [
    "len(df2['name'].unique())"
   ]
  },
  {
   "cell_type": "code",
   "execution_count": 9,
   "metadata": {},
   "outputs": [
    {
     "data": {
      "text/plain": [
       "23733"
      ]
     },
     "execution_count": 9,
     "metadata": {},
     "output_type": "execute_result"
    }
   ],
   "source": [
    "len(df2['name'])"
   ]
  },
  {
   "cell_type": "code",
   "execution_count": 10,
   "metadata": {},
   "outputs": [
    {
     "data": {
      "text/plain": [
       "name            object\n",
       "first_name      object\n",
       "last_name       object\n",
       "college         object\n",
       "position        object\n",
       "height          object\n",
       "weight         float64\n",
       "draft_team      object\n",
       "draft_round     object\n",
       "year_start       int64\n",
       "year_end         int64\n",
       "dtype: object"
      ]
     },
     "execution_count": 10,
     "metadata": {},
     "output_type": "execute_result"
    }
   ],
   "source": [
    "df2.dtypes"
   ]
  },
  {
   "cell_type": "code",
   "execution_count": 11,
   "metadata": {},
   "outputs": [],
   "source": [
    "df3 = df2[df2['year_start']>1985]"
   ]
  },
  {
   "cell_type": "code",
   "execution_count": 12,
   "metadata": {},
   "outputs": [
    {
     "data": {
      "text/plain": [
       "9547"
      ]
     },
     "execution_count": 12,
     "metadata": {},
     "output_type": "execute_result"
    }
   ],
   "source": [
    "len(df3['name'].unique())"
   ]
  },
  {
   "cell_type": "code",
   "execution_count": 13,
   "metadata": {},
   "outputs": [
    {
     "data": {
      "text/plain": [
       "9817"
      ]
     },
     "execution_count": 13,
     "metadata": {},
     "output_type": "execute_result"
    }
   ],
   "source": [
    "len(df3['name'])"
   ]
  },
  {
   "cell_type": "code",
   "execution_count": 14,
   "metadata": {},
   "outputs": [
    {
     "data": {
      "text/html": [
       "<div>\n",
       "<style scoped>\n",
       "    .dataframe tbody tr th:only-of-type {\n",
       "        vertical-align: middle;\n",
       "    }\n",
       "\n",
       "    .dataframe tbody tr th {\n",
       "        vertical-align: top;\n",
       "    }\n",
       "\n",
       "    .dataframe thead th {\n",
       "        text-align: right;\n",
       "    }\n",
       "</style>\n",
       "<table border=\"1\" class=\"dataframe\">\n",
       "  <thead>\n",
       "    <tr style=\"text-align: right;\">\n",
       "      <th></th>\n",
       "      <th>name</th>\n",
       "      <th>first_name</th>\n",
       "      <th>last_name</th>\n",
       "      <th>college</th>\n",
       "      <th>position</th>\n",
       "      <th>height</th>\n",
       "      <th>weight</th>\n",
       "      <th>draft_team</th>\n",
       "      <th>draft_round</th>\n",
       "      <th>year_start</th>\n",
       "      <th>year_end</th>\n",
       "    </tr>\n",
       "  </thead>\n",
       "  <tbody>\n",
       "    <tr>\n",
       "      <th>590</th>\n",
       "      <td>Adrian Arrington</td>\n",
       "      <td>Adrian</td>\n",
       "      <td>Arrington</td>\n",
       "      <td>Michigan</td>\n",
       "      <td>WR</td>\n",
       "      <td>2-Jun</td>\n",
       "      <td>185.0</td>\n",
       "      <td>New Orleans Saints</td>\n",
       "      <td>7th</td>\n",
       "      <td>2010</td>\n",
       "      <td>2012</td>\n",
       "    </tr>\n",
       "    <tr>\n",
       "      <th>717</th>\n",
       "      <td>Adrian Awasom</td>\n",
       "      <td>Adrian</td>\n",
       "      <td>Awasom</td>\n",
       "      <td>North Texas</td>\n",
       "      <td>DE</td>\n",
       "      <td>5-Jun</td>\n",
       "      <td>275.0</td>\n",
       "      <td>NaN</td>\n",
       "      <td>NaN</td>\n",
       "      <td>1987</td>\n",
       "      <td>1993</td>\n",
       "    </tr>\n",
       "    <tr>\n",
       "      <th>2195</th>\n",
       "      <td>Adrian Breen</td>\n",
       "      <td>Adrian</td>\n",
       "      <td>Breen</td>\n",
       "      <td>Morehead St.</td>\n",
       "      <td>QB</td>\n",
       "      <td>4-Jun</td>\n",
       "      <td>183.0</td>\n",
       "      <td>NaN</td>\n",
       "      <td>NaN</td>\n",
       "      <td>2007</td>\n",
       "      <td>2012</td>\n",
       "    </tr>\n",
       "    <tr>\n",
       "      <th>2835</th>\n",
       "      <td>Adrian Burk</td>\n",
       "      <td>Adrian</td>\n",
       "      <td>Burk</td>\n",
       "      <td>Baylor</td>\n",
       "      <td>QB</td>\n",
       "      <td>2-Jun</td>\n",
       "      <td>190.0</td>\n",
       "      <td>Baltimore Colts</td>\n",
       "      <td>1st</td>\n",
       "      <td>1987</td>\n",
       "      <td>1989</td>\n",
       "    </tr>\n",
       "    <tr>\n",
       "      <th>4257</th>\n",
       "      <td>Adrian Cooper</td>\n",
       "      <td>Adrian</td>\n",
       "      <td>Cooper</td>\n",
       "      <td>Oklahoma</td>\n",
       "      <td>TE</td>\n",
       "      <td>5-Jun</td>\n",
       "      <td>255.0</td>\n",
       "      <td>Pittsburgh Steelers</td>\n",
       "      <td>4th</td>\n",
       "      <td>1995</td>\n",
       "      <td>1999</td>\n",
       "    </tr>\n",
       "    <tr>\n",
       "      <th>5378</th>\n",
       "      <td>Adrian Dingle</td>\n",
       "      <td>Adrian</td>\n",
       "      <td>Dingle</td>\n",
       "      <td>Clemson</td>\n",
       "      <td>DE</td>\n",
       "      <td>3-Jun</td>\n",
       "      <td>272.0</td>\n",
       "      <td>San Diego Chargers</td>\n",
       "      <td>5th</td>\n",
       "      <td>1999</td>\n",
       "      <td>2003</td>\n",
       "    </tr>\n",
       "    <tr>\n",
       "      <th>6728</th>\n",
       "      <td>Adrian Ford</td>\n",
       "      <td>Adrian</td>\n",
       "      <td>Ford</td>\n",
       "      <td>Lafayette</td>\n",
       "      <td>B</td>\n",
       "      <td>10-May</td>\n",
       "      <td>190.0</td>\n",
       "      <td>NaN</td>\n",
       "      <td>NaN</td>\n",
       "      <td>2011</td>\n",
       "      <td>2013</td>\n",
       "    </tr>\n",
       "    <tr>\n",
       "      <th>8389</th>\n",
       "      <td>Adrian Hamilton</td>\n",
       "      <td>Adrian</td>\n",
       "      <td>Hamilton</td>\n",
       "      <td>Prairie View A&amp;M</td>\n",
       "      <td>LB</td>\n",
       "      <td>3-Jun</td>\n",
       "      <td>251.0</td>\n",
       "      <td>NaN</td>\n",
       "      <td>NaN</td>\n",
       "      <td>2000</td>\n",
       "      <td>2001</td>\n",
       "    </tr>\n",
       "    <tr>\n",
       "      <th>8539</th>\n",
       "      <td>Adrian Hardy</td>\n",
       "      <td>Adrian</td>\n",
       "      <td>Hardy</td>\n",
       "      <td>NW State (LA)</td>\n",
       "      <td>DB</td>\n",
       "      <td>11-May</td>\n",
       "      <td>194.0</td>\n",
       "      <td>San Francisco 49ers</td>\n",
       "      <td>2nd</td>\n",
       "      <td>2006</td>\n",
       "      <td>2013</td>\n",
       "    </tr>\n",
       "    <tr>\n",
       "      <th>11723</th>\n",
       "      <td>Adrian Klemm</td>\n",
       "      <td>Adrian</td>\n",
       "      <td>Klemm</td>\n",
       "      <td>Hawaii</td>\n",
       "      <td>G-T</td>\n",
       "      <td>3-Jun</td>\n",
       "      <td>310.0</td>\n",
       "      <td>New England Patriots</td>\n",
       "      <td>2nd</td>\n",
       "      <td>2003</td>\n",
       "      <td>2008</td>\n",
       "    </tr>\n",
       "    <tr>\n",
       "      <th>13673</th>\n",
       "      <td>Adrian McBride</td>\n",
       "      <td>Adrian</td>\n",
       "      <td>McBride</td>\n",
       "      <td>Tennessee</td>\n",
       "      <td>WR</td>\n",
       "      <td>Jun-00</td>\n",
       "      <td>195.0</td>\n",
       "      <td>NaN</td>\n",
       "      <td>NaN</td>\n",
       "      <td>2009</td>\n",
       "      <td>2013</td>\n",
       "    </tr>\n",
       "    <tr>\n",
       "      <th>18093</th>\n",
       "      <td>Adrian Ross</td>\n",
       "      <td>Adrian</td>\n",
       "      <td>Ross</td>\n",
       "      <td>Colorado St.</td>\n",
       "      <td>LB</td>\n",
       "      <td>2-Jun</td>\n",
       "      <td>245.0</td>\n",
       "      <td>NaN</td>\n",
       "      <td>NaN</td>\n",
       "      <td>1987</td>\n",
       "      <td>1988</td>\n",
       "    </tr>\n",
       "    <tr>\n",
       "      <th>20694</th>\n",
       "      <td>Adrian Taylor</td>\n",
       "      <td>Adrian</td>\n",
       "      <td>Taylor</td>\n",
       "      <td>NaN</td>\n",
       "      <td>DT</td>\n",
       "      <td>4-Jun</td>\n",
       "      <td>302.0</td>\n",
       "      <td>NaN</td>\n",
       "      <td>NaN</td>\n",
       "      <td>1995</td>\n",
       "      <td>1999</td>\n",
       "    </tr>\n",
       "    <tr>\n",
       "      <th>22489</th>\n",
       "      <td>Adrian White</td>\n",
       "      <td>Adrian</td>\n",
       "      <td>White</td>\n",
       "      <td>Southern Illinois</td>\n",
       "      <td>DB</td>\n",
       "      <td>Jun-00</td>\n",
       "      <td>200.0</td>\n",
       "      <td>New York Giants</td>\n",
       "      <td>2nd</td>\n",
       "      <td>1994</td>\n",
       "      <td>2002</td>\n",
       "    </tr>\n",
       "    <tr>\n",
       "      <th>23049</th>\n",
       "      <td>Adrian Wilson</td>\n",
       "      <td>Adrian</td>\n",
       "      <td>Wilson</td>\n",
       "      <td>North Carolina St.</td>\n",
       "      <td>DB</td>\n",
       "      <td>3-Jun</td>\n",
       "      <td>222.0</td>\n",
       "      <td>Arizona Cardinals</td>\n",
       "      <td>3rd</td>\n",
       "      <td>2012</td>\n",
       "      <td>2013</td>\n",
       "    </tr>\n",
       "    <tr>\n",
       "      <th>23411</th>\n",
       "      <td>Adrian Wright</td>\n",
       "      <td>Adrian</td>\n",
       "      <td>Wright</td>\n",
       "      <td>Virginia Union</td>\n",
       "      <td>RB</td>\n",
       "      <td>1-Jun</td>\n",
       "      <td>230.0</td>\n",
       "      <td>NaN</td>\n",
       "      <td>NaN</td>\n",
       "      <td>2003</td>\n",
       "      <td>2008</td>\n",
       "    </tr>\n",
       "    <tr>\n",
       "      <th>23553</th>\n",
       "      <td>Adrian Young</td>\n",
       "      <td>Adrian</td>\n",
       "      <td>Young</td>\n",
       "      <td>USC</td>\n",
       "      <td>LB</td>\n",
       "      <td>1-Jun</td>\n",
       "      <td>232.0</td>\n",
       "      <td>Philadelphia Eagles</td>\n",
       "      <td>3rd</td>\n",
       "      <td>2006</td>\n",
       "      <td>2011</td>\n",
       "    </tr>\n",
       "  </tbody>\n",
       "</table>\n",
       "</div>"
      ],
      "text/plain": [
       "                   name first_name  last_name             college position  \\\n",
       "590    Adrian Arrington     Adrian  Arrington            Michigan       WR   \n",
       "717       Adrian Awasom     Adrian     Awasom         North Texas       DE   \n",
       "2195       Adrian Breen     Adrian      Breen        Morehead St.       QB   \n",
       "2835        Adrian Burk     Adrian       Burk              Baylor       QB   \n",
       "4257      Adrian Cooper     Adrian     Cooper            Oklahoma       TE   \n",
       "5378      Adrian Dingle     Adrian     Dingle             Clemson       DE   \n",
       "6728        Adrian Ford     Adrian       Ford           Lafayette        B   \n",
       "8389    Adrian Hamilton     Adrian   Hamilton    Prairie View A&M       LB   \n",
       "8539       Adrian Hardy     Adrian      Hardy       NW State (LA)       DB   \n",
       "11723      Adrian Klemm     Adrian      Klemm              Hawaii      G-T   \n",
       "13673    Adrian McBride     Adrian    McBride           Tennessee       WR   \n",
       "18093       Adrian Ross     Adrian       Ross        Colorado St.       LB   \n",
       "20694     Adrian Taylor     Adrian     Taylor                 NaN       DT   \n",
       "22489      Adrian White     Adrian      White   Southern Illinois       DB   \n",
       "23049     Adrian Wilson     Adrian     Wilson  North Carolina St.       DB   \n",
       "23411     Adrian Wright     Adrian     Wright      Virginia Union       RB   \n",
       "23553      Adrian Young     Adrian      Young                 USC       LB   \n",
       "\n",
       "       height  weight            draft_team draft_round  year_start  year_end  \n",
       "590     2-Jun   185.0    New Orleans Saints         7th        2010      2012  \n",
       "717     5-Jun   275.0                   NaN         NaN        1987      1993  \n",
       "2195    4-Jun   183.0                   NaN         NaN        2007      2012  \n",
       "2835    2-Jun   190.0       Baltimore Colts         1st        1987      1989  \n",
       "4257    5-Jun   255.0   Pittsburgh Steelers         4th        1995      1999  \n",
       "5378    3-Jun   272.0    San Diego Chargers         5th        1999      2003  \n",
       "6728   10-May   190.0                   NaN         NaN        2011      2013  \n",
       "8389    3-Jun   251.0                   NaN         NaN        2000      2001  \n",
       "8539   11-May   194.0   San Francisco 49ers         2nd        2006      2013  \n",
       "11723   3-Jun   310.0  New England Patriots         2nd        2003      2008  \n",
       "13673  Jun-00   195.0                   NaN         NaN        2009      2013  \n",
       "18093   2-Jun   245.0                   NaN         NaN        1987      1988  \n",
       "20694   4-Jun   302.0                   NaN         NaN        1995      1999  \n",
       "22489  Jun-00   200.0       New York Giants         2nd        1994      2002  \n",
       "23049   3-Jun   222.0     Arizona Cardinals         3rd        2012      2013  \n",
       "23411   1-Jun   230.0                   NaN         NaN        2003      2008  \n",
       "23553   1-Jun   232.0   Philadelphia Eagles         3rd        2006      2011  "
      ]
     },
     "execution_count": 14,
     "metadata": {},
     "output_type": "execute_result"
    }
   ],
   "source": [
    "df3.loc[(df3['first_name'] == 'Adrian')] #& (df3['last_name'] == 'Rodgers')]"
   ]
  },
  {
   "cell_type": "code",
   "execution_count": null,
   "metadata": {},
   "outputs": [],
   "source": []
  }
 ],
 "metadata": {
  "kernelspec": {
   "display_name": "Python 3",
   "language": "python",
   "name": "python3"
  },
  "language_info": {
   "codemirror_mode": {
    "name": "ipython",
    "version": 3
   },
   "file_extension": ".py",
   "mimetype": "text/x-python",
   "name": "python",
   "nbconvert_exporter": "python",
   "pygments_lexer": "ipython3",
   "version": "3.6.9"
  }
 },
 "nbformat": 4,
 "nbformat_minor": 2
}
